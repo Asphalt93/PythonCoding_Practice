{
 "cells": [
  {
   "cell_type": "markdown",
   "metadata": {},
   "source": [
    "# Module and Import\n",
    "\n",
    "* See how to separate the source code files\n",
    "    - Just put your code in another file\n",
    "    - <i>filename<b>.py</b></i>\n",
    "\n",
    "\n",
    "* See how to use classes in other files\n",
    "    - <b>import</b> <i>filename</i>\n",
    "    \n",
    "\n",
    "* Use from to specify the directory, or the folder, path"
   ]
  },
  {
   "cell_type": "code",
   "execution_count": 1,
   "metadata": {},
   "outputs": [],
   "source": [
    "import Home"
   ]
  },
  {
   "cell_type": "code",
   "execution_count": 2,
   "metadata": {},
   "outputs": [
    {
     "name": "stdout",
     "output_type": "stream",
     "text": [
      "Built on Seoul KU\n",
      "Built at Mon Oct 28 16:18:18 2019\n",
      "Roof color is red , and door is closed\n"
     ]
    }
   ],
   "source": [
    "homeAtSeoul = Home.MyHome('Seoul KU')\n",
    "homeAtSeoul.printStatus()"
   ]
  },
  {
   "cell_type": "markdown",
   "metadata": {},
   "source": [
    "# Organizing Modules by Package\n",
    "\n",
    "* Directory, or folder\n",
    "    - Clusters modules\n",
    "        - Modules $\\rightarrow$ filename.py\n",
    "    - We call these directories as package\n",
    "    - Hence, the previous information is exactly\n",
    "        - from <i>package</i> <b>import</b> <i>module</i>\n",
    "        \n",
    "        \n",
    "\n",
    "* Package has\n",
    "    - \\_\\_init\\_\\_.py in the directory\n",
    "    - This is how to differentiate between the ordinary and the package directories"
   ]
  },
  {
   "cell_type": "code",
   "execution_count": null,
   "metadata": {},
   "outputs": [],
   "source": []
  }
 ],
 "metadata": {
  "kernelspec": {
   "display_name": "dmqa_pytorch",
   "language": "python",
   "name": "dmqa_pytorch"
  },
  "language_info": {
   "codemirror_mode": {
    "name": "ipython",
    "version": 3
   },
   "file_extension": ".py",
   "mimetype": "text/x-python",
   "name": "python",
   "nbconvert_exporter": "python",
   "pygments_lexer": "ipython3",
   "version": "3.7.4"
  }
 },
 "nbformat": 4,
 "nbformat_minor": 2
}
